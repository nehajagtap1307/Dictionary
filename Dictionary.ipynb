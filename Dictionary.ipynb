{
  "nbformat": 4,
  "nbformat_minor": 0,
  "metadata": {
    "colab": {
      "provenance": []
    },
    "kernelspec": {
      "name": "python3",
      "display_name": "Python 3"
    },
    "language_info": {
      "name": "python"
    }
  },
  "cells": [
    {
      "cell_type": "code",
      "source": [
        "#Dictionary\n",
        "#-It is an unordered collection of item in the key value pair pattern\n",
        "# Dictionary is mutable\n"
      ],
      "metadata": {
        "id": "D7q0Ypk78AOZ"
      },
      "execution_count": null,
      "outputs": []
    },
    {
      "cell_type": "code",
      "source": [
        "#Dictionary with integer key\n",
        "my_dict={1:'apple',2:'macbook'}\n",
        "print(my_dict)"
      ],
      "metadata": {
        "colab": {
          "base_uri": "https://localhost:8080/"
        },
        "id": "n-eHeRgX8oHA",
        "outputId": "5c73b56b-ec3b-4ac6-807c-6c05de31a6fb"
      },
      "execution_count": null,
      "outputs": [
        {
          "output_type": "stream",
          "name": "stdout",
          "text": [
            "{1: 'apple', 2: 'macbook'}\n"
          ]
        }
      ]
    },
    {
      "cell_type": "code",
      "source": [
        "#dictionary with mixed key\n",
        "my_dict={1:'apple','laptop':'macbook','price':'71000'}\n",
        "print(my_dict)\n",
        "#to find len of dictionary\n",
        "print(len(my_dict))"
      ],
      "metadata": {
        "colab": {
          "base_uri": "https://localhost:8080/"
        },
        "id": "mhJCV1U0889X",
        "outputId": "00d7495e-794f-4d8f-9cad-55e99128e47d"
      },
      "execution_count": 4,
      "outputs": [
        {
          "output_type": "stream",
          "name": "stdout",
          "text": [
            "{1: 'apple', 'laptop': 'macbook', 'price': '71000'}\n",
            "3\n"
          ]
        }
      ]
    },
    {
      "cell_type": "code",
      "source": [
        "#Accessing elements from dictionary\n",
        "# To access values in dictionary we use keys. Keys can be used either inside square bracket or with get method.\n",
        "my_dict={1:'apple','laptop':'macbook','price':'71000'}\n",
        "print(my_dict[1])                 #method 1\n",
        "print(my_dict.get('price'))         #method 2\n"
      ],
      "metadata": {
        "colab": {
          "base_uri": "https://localhost:8080/"
        },
        "id": "2a2Q_sJu9tcn",
        "outputId": "b5bd9594-5f08-41db-f837-3cc8e8d5f319"
      },
      "execution_count": 3,
      "outputs": [
        {
          "output_type": "stream",
          "name": "stdout",
          "text": [
            "apple\n",
            "71000\n"
          ]
        }
      ]
    },
    {
      "cell_type": "code",
      "source": [
        "#changing and adding dictionary elements\n",
        "my_dict={1:'apple','laptop':'macbook','price':'71000'}\n",
        "my_dict['price']='72000'     #changing\n",
        "print(my_dict)\n",
        "my_dict['colour']='silver'   #adding\n",
        "print(my_dict)"
      ],
      "metadata": {
        "id": "dQr8BPWU_4HH",
        "colab": {
          "base_uri": "https://localhost:8080/"
        },
        "outputId": "98536c88-07e4-4ff1-b6f2-c69b2472dcf7"
      },
      "execution_count": 2,
      "outputs": [
        {
          "output_type": "stream",
          "name": "stdout",
          "text": [
            "{1: 'apple', 'laptop': 'macbook', 'price': '72000'}\n",
            "{1: 'apple', 'laptop': 'macbook', 'price': '72000', 'colour': 'silver'}\n"
          ]
        }
      ]
    },
    {
      "cell_type": "code",
      "source": [
        "# removing elements from dictionary\n",
        "#pop() - this method removes an item with the provided key and returns value\n",
        "#popitems()-this method is used to remove and return an arbitary key value pair from the dictionary\n",
        "#clear() - all items are removed at once\n",
        "#del - delete dictionary with items or individual items\n",
        "my_dict={1:'apple','laptop':'macbook','price':'71000','colour':'silver'}\n",
        "print(my_dict.popitem())\n",
        "print(my_dict.pop(1))\n",
        "del my_dict['laptop']\n",
        "print(my_dict)\n",
        "\n",
        "my_dict.clear()\n",
        "print(my_dict)\n"
      ],
      "metadata": {
        "colab": {
          "base_uri": "https://localhost:8080/"
        },
        "id": "smX2XpNItK_B",
        "outputId": "dcfae985-0ee5-47ef-e950-b069556468e2"
      },
      "execution_count": 8,
      "outputs": [
        {
          "output_type": "stream",
          "name": "stdout",
          "text": [
            "('colour', 'silver')\n",
            "apple\n",
            "{'price': '71000'}\n",
            "{}\n"
          ]
        }
      ]
    },
    {
      "cell_type": "code",
      "source": [
        "#copy() - returns a shallow copy of dictionary\n",
        "my_dict={1:'apple','laptop':'macbook','price':'71000','colour':'silver'}\n",
        "my_dict_copy=my_dict.copy()\n",
        "print(my_dict_copy)"
      ],
      "metadata": {
        "colab": {
          "base_uri": "https://localhost:8080/"
        },
        "id": "0CTG7wohwDNn",
        "outputId": "95a0d922-22fd-4452-9b4d-bfc11fe9ef34"
      },
      "execution_count": 9,
      "outputs": [
        {
          "output_type": "stream",
          "name": "stdout",
          "text": [
            "{1: 'apple', 'laptop': 'macbook', 'price': '71000', 'colour': 'silver'}\n"
          ]
        }
      ]
    },
    {
      "cell_type": "code",
      "source": [
        "# items() - returns list of dictionary\n",
        "my_dict={1:'apple','laptop':'macbook','price':'71000','colour':'silver'}\n",
        "print(my_dict.items())\n",
        "#keys() - returns a list of al the avaiable keys in dictionary\n",
        "print(my_dict.keys())\n",
        "#values() - returns a list of all the values in dictionary\n",
        "print(my_dict.values())"
      ],
      "metadata": {
        "colab": {
          "base_uri": "https://localhost:8080/"
        },
        "id": "SJ34qd1RwXnF",
        "outputId": "5fdf3d44-b12a-4ec7-b7b6-cf57d5a916ee"
      },
      "execution_count": 11,
      "outputs": [
        {
          "output_type": "stream",
          "name": "stdout",
          "text": [
            "dict_items([(1, 'apple'), ('laptop', 'macbook'), ('price', '71000'), ('colour', 'silver')])\n",
            "dict_keys([1, 'laptop', 'price', 'colour'])\n",
            "dict_values(['apple', 'macbook', '71000', 'silver'])\n"
          ]
        }
      ]
    },
    {
      "cell_type": "code",
      "source": [
        "#Fromkeys() - creates new dictionary with keys from seq and values\n",
        "seq=('name','age','gender')\n",
        "my_dict=dict.fromkeys(seq)\n",
        "\n",
        "my_dict=dict.fromkeys(seq,10)\n",
        "print(my_dict)"
      ],
      "metadata": {
        "colab": {
          "base_uri": "https://localhost:8080/"
        },
        "id": "ed-KGOUXw8Vt",
        "outputId": "a18566d8-13b7-42ac-944b-65d591aa1201"
      },
      "execution_count": 12,
      "outputs": [
        {
          "output_type": "stream",
          "name": "stdout",
          "text": [
            "{'name': 10, 'age': 10, 'gender': 10}\n"
          ]
        }
      ]
    },
    {
      "cell_type": "code",
      "source": [
        "#update() - adds or combines two or more dictionary. This function does not return anything\n",
        "dict1={1:'apple','laptop':'macbook','price':'71000','colour':'silver'}\n",
        "dict2={2:'lenovo','Gen':'12th','price':'92000','colour':'black'}\n",
        "dict1.update(dict2)\n",
        "print(dict1)\n"
      ],
      "metadata": {
        "colab": {
          "base_uri": "https://localhost:8080/"
        },
        "id": "QgaIip8dxiMO",
        "outputId": "745441c4-f2d8-4741-d9a4-27a88423cb14"
      },
      "execution_count": 13,
      "outputs": [
        {
          "output_type": "stream",
          "name": "stdout",
          "text": [
            "{1: 'apple', 'laptop': 'macbook', 'price': '92000', 'colour': 'black', 2: 'lenovo', 'Gen': '12th'}\n"
          ]
        }
      ]
    }
  ]
}